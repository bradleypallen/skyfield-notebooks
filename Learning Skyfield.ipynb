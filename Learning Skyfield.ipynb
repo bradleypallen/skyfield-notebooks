{
 "cells": [
  {
   "cell_type": "code",
   "execution_count": 1,
   "metadata": {},
   "outputs": [],
   "source": [
    "%matplotlib inline"
   ]
  },
  {
   "cell_type": "code",
   "execution_count": 2,
   "metadata": {},
   "outputs": [],
   "source": [
    "from skyfield.api import Loader\n",
    "load = Loader('./data')"
   ]
  },
  {
   "cell_type": "code",
   "execution_count": 3,
   "metadata": {},
   "outputs": [],
   "source": [
    "from skyfield import api"
   ]
  },
  {
   "cell_type": "code",
   "execution_count": 4,
   "metadata": {},
   "outputs": [],
   "source": [
    "from skyfield import almanac"
   ]
  },
  {
   "cell_type": "code",
   "execution_count": 5,
   "metadata": {},
   "outputs": [],
   "source": [
    "manhattan_beach = api.Topos('33.881519 N', '118.388177 W')"
   ]
  },
  {
   "cell_type": "code",
   "execution_count": 6,
   "metadata": {},
   "outputs": [],
   "source": [
    "ts = load.timescale()"
   ]
  },
  {
   "cell_type": "code",
   "execution_count": 7,
   "metadata": {},
   "outputs": [],
   "source": [
    "ephemeris = load('de421.bsp')"
   ]
  },
  {
   "cell_type": "code",
   "execution_count": 8,
   "metadata": {},
   "outputs": [
    {
     "name": "stdout",
     "output_type": "stream",
     "text": [
      "0 Vernal Equinox 2019-03-20 21:58:26Z\n",
      "1 Summer Solstice 2019-06-21 15:54:15Z\n",
      "2 Autumnal Equinox 2019-09-23 07:50:11Z\n",
      "3 Winter Solstice 2019-12-22 04:19:26Z\n"
     ]
    }
   ],
   "source": [
    "t0 = ts.utc(2019, 1, 1)\n",
    "t1 = ts.utc(2019, 12, 31)\n",
    "t, y = almanac.find_discrete(t0, t1, almanac.seasons(ephemeris))\n",
    "\n",
    "for yi, ti in zip(y, t):\n",
    "    print(yi, almanac.SEASON_EVENTS[yi], ti.utc_iso(' '))"
   ]
  },
  {
   "cell_type": "code",
   "execution_count": 9,
   "metadata": {},
   "outputs": [
    {
     "name": "stdout",
     "output_type": "stream",
     "text": [
      "['2019-05-25T12:46:26Z', '2019-05-26T02:54:55Z']\n",
      "[ True False]\n"
     ]
    }
   ],
   "source": [
    "t0 = ts.utc(2019, 5, 25, 4)\n",
    "t1 = ts.utc(2019, 5, 26, 4)\n",
    "t, y = almanac.find_discrete(t0, t1, almanac.sunrise_sunset(ephemeris, manhattan_beach))\n",
    "\n",
    "print(t.utc_iso())\n",
    "print(y)"
   ]
  },
  {
   "cell_type": "code",
   "execution_count": 10,
   "metadata": {},
   "outputs": [
    {
     "name": "stdout",
     "output_type": "stream",
     "text": [
      "['2019-05-04T22:45:30Z', '2019-05-12T01:12:14Z', '2019-05-18T21:11:21Z', '2019-05-26T16:33:35Z']\n",
      "[0 1 2 3]\n",
      "['New Moon', 'First Quarter', 'Full Moon', 'Last Quarter']\n"
     ]
    }
   ],
   "source": [
    "t0 = ts.utc(2019, 5, 1)\n",
    "t1 = ts.utc(2019, 5, 31)\n",
    "t, y = almanac.find_discrete(t0, t1, almanac.moon_phases(ephemeris))\n",
    "\n",
    "print(t.utc_iso())\n",
    "print(y)\n",
    "print([ almanac.MOON_PHASES[yi] for yi in y ])"
   ]
  },
  {
   "cell_type": "code",
   "execution_count": 11,
   "metadata": {},
   "outputs": [],
   "source": [
    "from skyfield.api import Star\n",
    "from skyfield.data import hipparcos\n",
    "\n",
    "with load.open(hipparcos.URL) as f:\n",
    "    df = hipparcos.load_dataframe(f)\n",
    "    \n",
    "barnards_star = Star.from_dataframe(df.loc[87937])"
   ]
  },
  {
   "cell_type": "code",
   "execution_count": 12,
   "metadata": {},
   "outputs": [
    {
     "name": "stdout",
     "output_type": "stream",
     "text": [
      "17h 57m 47.46s +04deg 44' 56.7\" 2.06265e+14 au\n"
     ]
    }
   ],
   "source": [
    "earth = ephemeris['earth']\n",
    "t = ts.now()\n",
    "astrometric = earth.at(t).observe(barnards_star)\n",
    "ra, dec, distance = astrometric.radec()\n",
    "print(ra, dec, distance)"
   ]
  },
  {
   "cell_type": "code",
   "execution_count": 13,
   "metadata": {},
   "outputs": [
    {
     "data": {
      "text/html": [
       "<div>\n",
       "<style scoped>\n",
       "    .dataframe tbody tr th:only-of-type {\n",
       "        vertical-align: middle;\n",
       "    }\n",
       "\n",
       "    .dataframe tbody tr th {\n",
       "        vertical-align: top;\n",
       "    }\n",
       "\n",
       "    .dataframe thead th {\n",
       "        text-align: right;\n",
       "    }\n",
       "</style>\n",
       "<table border=\"1\" class=\"dataframe\">\n",
       "  <thead>\n",
       "    <tr style=\"text-align: right;\">\n",
       "      <th></th>\n",
       "      <th>magnitude</th>\n",
       "      <th>ra_degrees</th>\n",
       "      <th>dec_degrees</th>\n",
       "      <th>parallax_mas</th>\n",
       "      <th>ra_mas_per_year</th>\n",
       "      <th>dec_mas_per_year</th>\n",
       "      <th>ra_hours</th>\n",
       "      <th>epoch_year</th>\n",
       "    </tr>\n",
       "    <tr>\n",
       "      <th>hip</th>\n",
       "      <th></th>\n",
       "      <th></th>\n",
       "      <th></th>\n",
       "      <th></th>\n",
       "      <th></th>\n",
       "      <th></th>\n",
       "      <th></th>\n",
       "      <th></th>\n",
       "    </tr>\n",
       "  </thead>\n",
       "  <tbody>\n",
       "    <tr>\n",
       "      <th>1</th>\n",
       "      <td>9.10</td>\n",
       "      <td>0.000912</td>\n",
       "      <td>1.089013</td>\n",
       "      <td>3.54</td>\n",
       "      <td>-5.20</td>\n",
       "      <td>-1.88</td>\n",
       "      <td>0.000061</td>\n",
       "      <td>1991.25</td>\n",
       "    </tr>\n",
       "    <tr>\n",
       "      <th>2</th>\n",
       "      <td>9.27</td>\n",
       "      <td>0.003797</td>\n",
       "      <td>-19.498837</td>\n",
       "      <td>21.90</td>\n",
       "      <td>181.21</td>\n",
       "      <td>-0.93</td>\n",
       "      <td>0.000253</td>\n",
       "      <td>1991.25</td>\n",
       "    </tr>\n",
       "    <tr>\n",
       "      <th>3</th>\n",
       "      <td>6.61</td>\n",
       "      <td>0.005008</td>\n",
       "      <td>38.859286</td>\n",
       "      <td>2.81</td>\n",
       "      <td>5.24</td>\n",
       "      <td>-2.91</td>\n",
       "      <td>0.000334</td>\n",
       "      <td>1991.25</td>\n",
       "    </tr>\n",
       "    <tr>\n",
       "      <th>4</th>\n",
       "      <td>8.06</td>\n",
       "      <td>0.008382</td>\n",
       "      <td>-51.893546</td>\n",
       "      <td>7.75</td>\n",
       "      <td>62.85</td>\n",
       "      <td>0.16</td>\n",
       "      <td>0.000559</td>\n",
       "      <td>1991.25</td>\n",
       "    </tr>\n",
       "    <tr>\n",
       "      <th>5</th>\n",
       "      <td>8.55</td>\n",
       "      <td>0.009965</td>\n",
       "      <td>-40.591224</td>\n",
       "      <td>2.87</td>\n",
       "      <td>2.53</td>\n",
       "      <td>9.07</td>\n",
       "      <td>0.000664</td>\n",
       "      <td>1991.25</td>\n",
       "    </tr>\n",
       "  </tbody>\n",
       "</table>\n",
       "</div>"
      ],
      "text/plain": [
       "     magnitude  ra_degrees  dec_degrees  parallax_mas  ra_mas_per_year  \\\n",
       "hip                                                                      \n",
       "1         9.10    0.000912     1.089013          3.54            -5.20   \n",
       "2         9.27    0.003797   -19.498837         21.90           181.21   \n",
       "3         6.61    0.005008    38.859286          2.81             5.24   \n",
       "4         8.06    0.008382   -51.893546          7.75            62.85   \n",
       "5         8.55    0.009965   -40.591224          2.87             2.53   \n",
       "\n",
       "     dec_mas_per_year  ra_hours  epoch_year  \n",
       "hip                                          \n",
       "1               -1.88  0.000061     1991.25  \n",
       "2               -0.93  0.000253     1991.25  \n",
       "3               -2.91  0.000334     1991.25  \n",
       "4                0.16  0.000559     1991.25  \n",
       "5                9.07  0.000664     1991.25  "
      ]
     },
     "execution_count": 13,
     "metadata": {},
     "output_type": "execute_result"
    }
   ],
   "source": [
    "df.head()"
   ]
  },
  {
   "cell_type": "code",
   "execution_count": 14,
   "metadata": {},
   "outputs": [],
   "source": [
    "bright = df[df['magnitude'] <= 5]"
   ]
  },
  {
   "cell_type": "code",
   "execution_count": 15,
   "metadata": {},
   "outputs": [
    {
     "data": {
      "text/plain": [
       "1627"
      ]
     },
     "execution_count": 15,
     "metadata": {},
     "output_type": "execute_result"
    }
   ],
   "source": [
    "len(bright)"
   ]
  },
  {
   "cell_type": "code",
   "execution_count": 16,
   "metadata": {},
   "outputs": [],
   "source": [
    "bright_stars = Star.from_dataframe(bright)"
   ]
  },
  {
   "cell_type": "code",
   "execution_count": 17,
   "metadata": {},
   "outputs": [],
   "source": [
    "t = ts.now()\n",
    "astrometric = earth.at(t).observe(bright_stars)\n",
    "ra, dec, distance = astrometric.radec()"
   ]
  },
  {
   "cell_type": "code",
   "execution_count": 18,
   "metadata": {},
   "outputs": [
    {
     "data": {
      "text/plain": [
       "[]"
      ]
     },
     "execution_count": 18,
     "metadata": {},
     "output_type": "execute_result"
    },
    {
     "data": {
      "image/png": "[encoded data removed]",
      "text/plain": [
       "<Figure size 432x288 with 1 Axes>"
      ]
     },
     "metadata": {
      "needs_background": "light"
     },
     "output_type": "display_data"
    }
   ],
   "source": [
    "from matplotlib import pyplot as plt\n",
    "plt.scatter(ra.hours, dec.degrees, 8 - bright['magnitude'], 'k')\n",
    "plt.xlim(7.0, 4.0)\n",
    "plt.ylim(-20, 20)\n",
    "plt.plot()"
   ]
  }
 ],
 "metadata": {
  "kernelspec": {
   "display_name": "Python 3",
   "language": "python",
   "name": "python3"
  },
  "language_info": {
   "codemirror_mode": {
    "name": "ipython",
    "version": 3
   },
   "file_extension": ".py",
   "mimetype": "text/x-python",
   "name": "python",
   "nbconvert_exporter": "python",
   "pygments_lexer": "ipython3",
   "version": "3.7.3"
  }
 },
 "nbformat": 4,
 "nbformat_minor": 2
}
